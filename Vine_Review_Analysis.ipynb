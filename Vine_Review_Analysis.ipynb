{
  "nbformat": 4,
  "nbformat_minor": 0,
  "metadata": {
    "colab": {
      "provenance": [],
      "collapsed_sections": []
    },
    "kernelspec": {
      "name": "python3",
      "display_name": "Python 3"
    },
    "language_info": {
      "name": "python"
    }
  },
  "cells": [
    {
      "cell_type": "code",
      "execution_count": 2,
      "metadata": {
        "colab": {
          "base_uri": "https://localhost:8080/"
        },
        "id": "RiLPgNedo7kc",
        "outputId": "4cb99d54-f2a7-4698-f03c-a6aaa2cf98f6"
      },
      "outputs": [
        {
          "output_type": "stream",
          "name": "stdout",
          "text": [
            "Get:1 http://security.ubuntu.com/ubuntu bionic-security InRelease [88.7 kB]\n",
            "Get:2 http://ppa.launchpad.net/c2d4u.team/c2d4u4.0+/ubuntu bionic InRelease [15.9 kB]\n",
            "Ign:3 https://developer.download.nvidia.com/compute/machine-learning/repos/ubuntu1804/x86_64  InRelease\n",
            "Hit:4 https://developer.download.nvidia.com/compute/cuda/repos/ubuntu1804/x86_64  InRelease\n",
            "Hit:5 http://archive.ubuntu.com/ubuntu bionic InRelease\n",
            "Hit:6 https://developer.download.nvidia.com/compute/machine-learning/repos/ubuntu1804/x86_64  Release\n",
            "Get:7 https://cloud.r-project.org/bin/linux/ubuntu bionic-cran40/ InRelease [3,626 B]\n",
            "Get:8 http://archive.ubuntu.com/ubuntu bionic-updates InRelease [88.7 kB]\n",
            "Hit:9 http://ppa.launchpad.net/cran/libgit2/ubuntu bionic InRelease\n",
            "Get:10 http://ppa.launchpad.net/deadsnakes/ppa/ubuntu bionic InRelease [15.9 kB]\n",
            "Get:11 http://archive.ubuntu.com/ubuntu bionic-backports InRelease [83.3 kB]\n",
            "Get:12 http://security.ubuntu.com/ubuntu bionic-security/restricted amd64 Packages [1,188 kB]\n",
            "Get:13 http://security.ubuntu.com/ubuntu bionic-security/main amd64 Packages [3,020 kB]\n",
            "Get:14 http://ppa.launchpad.net/graphics-drivers/ppa/ubuntu bionic InRelease [21.3 kB]\n",
            "Get:15 http://security.ubuntu.com/ubuntu bionic-security/universe amd64 Packages [1,551 kB]\n",
            "Get:17 http://ppa.launchpad.net/c2d4u.team/c2d4u4.0+/ubuntu bionic/main Sources [2,164 kB]\n",
            "Get:18 http://archive.ubuntu.com/ubuntu bionic-updates/universe amd64 Packages [2,329 kB]\n",
            "Get:19 http://ppa.launchpad.net/c2d4u.team/c2d4u4.0+/ubuntu bionic/main amd64 Packages [1,109 kB]\n",
            "Get:20 http://archive.ubuntu.com/ubuntu bionic-updates/restricted amd64 Packages [1,230 kB]\n",
            "Get:21 http://archive.ubuntu.com/ubuntu bionic-updates/main amd64 Packages [3,452 kB]\n",
            "Get:22 http://ppa.launchpad.net/deadsnakes/ppa/ubuntu bionic/main amd64 Packages [45.3 kB]\n",
            "Get:23 http://ppa.launchpad.net/graphics-drivers/ppa/ubuntu bionic/main amd64 Packages [50.8 kB]\n",
            "Fetched 16.5 MB in 4s (4,082 kB/s)\n",
            "Reading package lists... Done\n"
          ]
        }
      ],
      "source": [
        "import os\n",
        "# Find the latest version of spark 3.0  from http://www-us.apache.org/dist/spark/ and enter as the spark version\n",
        "# For example:\n",
        "# spark_version = 'spark-3.0.1'\n",
        "spark_version = 'spark-3.3.0'\n",
        "os.environ['SPARK_VERSION']=spark_version\n",
        "\n",
        "# Install Spark and Java\n",
        "!apt-get update\n",
        "!apt-get install openjdk-11-jdk-headless -qq > /dev/null\n",
        "!wget -q http://www.apache.org/dist/spark/$SPARK_VERSION/$SPARK_VERSION-bin-hadoop3.tgz\n",
        "!tar xf $SPARK_VERSION-bin-hadoop3.tgz\n",
        "!pip install -q findspark\n",
        "\n",
        "# Set Environment Variables\n",
        "import os\n",
        "os.environ[\"JAVA_HOME\"] = \"/usr/lib/jvm/java-11-openjdk-amd64\"\n",
        "os.environ[\"SPARK_HOME\"] = f\"/content/{spark_version}-bin-hadoop3\"\n",
        "\n",
        "# Start a SparkSession\n",
        "import findspark\n",
        "findspark.init()"
      ]
    },
    {
      "cell_type": "code",
      "source": [
        "from pyspark.sql.functions import round, col\n",
        "from pyspark.sql import SparkSession\n",
        "spark = SparkSession.builder.appName(\"M16-Amazon-Challenge\").config(\"spark.driver.extraClassPath\",\"/content/postgresql-42.2.16.jar\").getOrCreate()"
      ],
      "metadata": {
        "id": "3WBZjXj7pK7k"
      },
      "execution_count": 97,
      "outputs": []
    },
    {
      "cell_type": "code",
      "source": [
        "from pyspark import SparkFiles\n",
        "url = \"https://s3.amazonaws.com/amazon-reviews-pds/tsv/amazon_reviews_us_Video_Games_v1_00.tsv.gz\"\n",
        "spark.sparkContext.addFile(url)\n",
        "df = spark.read.option(\"encoding\", \"UTF-8\").csv(SparkFiles.get(\"\"), sep=\"\\t\", header=True, inferSchema=True)\n",
        "df.show()"
      ],
      "metadata": {
        "colab": {
          "base_uri": "https://localhost:8080/"
        },
        "id": "yJBrosXNpObe",
        "outputId": "b0d8a86c-afdc-4110-9ea1-abbbae7b8351"
      },
      "execution_count": 98,
      "outputs": [
        {
          "output_type": "stream",
          "name": "stdout",
          "text": [
            "+-----------+-----------+--------------+----------+--------------+--------------------+----------------+-----------+-------------+-----------+----+-----------------+--------------------+--------------------+-------------------+\n",
            "|marketplace|customer_id|     review_id|product_id|product_parent|       product_title|product_category|star_rating|helpful_votes|total_votes|vine|verified_purchase|     review_headline|         review_body|        review_date|\n",
            "+-----------+-----------+--------------+----------+--------------+--------------------+----------------+-----------+-------------+-----------+----+-----------------+--------------------+--------------------+-------------------+\n",
            "|         US|   12039526| RTIS3L2M1F5SM|B001CXYMFS|     737716809|Thrustmaster T-Fl...|     Video Games|          5|            0|          0|   N|                Y|an amazing joysti...|Used this for Eli...|2015-08-31 00:00:00|\n",
            "|         US|    9636577| R1ZV7R40OLHKD|B00M920ND6|     569686175|Tonsee 6 buttons ...|     Video Games|          5|            0|          0|   N|                Y|Definitely a sile...|Loved it,  I didn...|2015-08-31 00:00:00|\n",
            "|         US|    2331478|R3BH071QLH8QMC|B0029CSOD2|      98937668|Hidden Mysteries:...|     Video Games|          1|            0|          1|   N|                Y|            One Star|poor quality work...|2015-08-31 00:00:00|\n",
            "|         US|   52495923|R127K9NTSXA2YH|B00GOOSV98|      23143350|GelTabz Performan...|     Video Games|          3|            0|          0|   N|                Y|good, but could b...|nice, but tend to...|2015-08-31 00:00:00|\n",
            "|         US|   14533949|R32ZWUXDJPW27Q|B00Y074JOM|     821342511|Zero Suit Samus a...|     Video Games|          4|            0|          0|   N|                Y|   Great but flawed.|Great amiibo, gre...|2015-08-31 00:00:00|\n",
            "|         US|    2377552|R3AQQ4YUKJWBA6|B002UBI6W6|     328764615|Psyclone Recharge...|     Video Games|          1|            0|          0|   N|                Y|            One Star|The remote consta...|2015-08-31 00:00:00|\n",
            "|         US|   17521011|R2F0POU5K6F73F|B008XHCLFO|      24234603|Protection for yo...|     Video Games|          5|            0|          0|   N|                Y|              A Must|I have a 2012-201...|2015-08-31 00:00:00|\n",
            "|         US|   19676307|R3VNR804HYSMR6|B00BRA9R6A|     682267517|   Nerf 3DS XL Armor|     Video Games|          5|            0|          0|   N|                Y|          Five Stars|Perfect, kids lov...|2015-08-31 00:00:00|\n",
            "|         US|     224068| R3GZTM72WA2QH|B009EPWJLA|     435241890|One Piece: Pirate...|     Video Games|          5|            0|          0|   N|                Y|          Five Stars|            Excelent|2015-08-31 00:00:00|\n",
            "|         US|   48467989| RNQOY62705W1K|B0000AV7GB|     256572651|Playstation 2 Dan...|     Video Games|          4|            0|          0|   N|                Y|          Four Stars|Slippery but expe...|2015-08-31 00:00:00|\n",
            "|         US|     106569|R1VTIA3JTYBY02|B00008KTNN|     384411423|Metal Arms: Glitc...|     Video Games|          5|            0|          0|   N|                N|          Five Stars|Love the game. Se...|2015-08-31 00:00:00|\n",
            "|         US|   48269642|R29DOU8791QZL8|B000A3IA0Y|     472622859|72 Pin Connector ...|     Video Games|          1|            0|          0|   N|                Y| Game will get stuck|Does not fit prop...|2015-08-31 00:00:00|\n",
            "|         US|   52738710|R15DUT1VIJ9RJZ|B0053BQN34|     577628462|uDraw Gametablet ...|     Video Games|          2|            0|          0|   N|                Y|We have tried it ...|This was way too ...|2015-08-31 00:00:00|\n",
            "|         US|   10556786|R3IMF2MQ3OU9ZM|B002I0HIMI|     988218515|NBA 2K12(Covers M...|     Video Games|          4|            0|          0|   N|                Y|          Four Stars|Works great good ...|2015-08-31 00:00:00|\n",
            "|         US|    2963837|R23H79DHOZTYAU|B0081EH12M|     770100932|New Trigger Grips...|     Video Games|          1|            1|          1|   N|                Y|Now i have to buy...|It did not fit th...|2015-08-31 00:00:00|\n",
            "|         US|   23092109| RIV24EQAIXA4O|B005FMLZQQ|      24647669|Xbox 360 Media Re...|     Video Games|          5|            0|          0|   N|                Y|          Five Stars|perfect lightweig...|2015-08-31 00:00:00|\n",
            "|         US|   23091728|R3UCNGYDVN24YB|B002BSA388|      33706205|Super Mario Galaxy 2|     Video Games|          5|            0|          0|   N|                Y|          Five Stars|               great|2015-08-31 00:00:00|\n",
            "|         US|   10712640| RUL4H4XTTN2DY|B00BUSLSAC|     829667834|Nintendo 3DS XL -...|     Video Games|          5|            0|          0|   N|                Y|          Five Stars|Works beautifully...|2015-08-31 00:00:00|\n",
            "|         US|   17455376|R20JF7Z4DHTNX5|B00KWF38AW|     110680188|Captain Toad:  Tr...|     Video Games|          5|            0|          0|   N|                Y|          Five Stars|Kids loved the ga...|2015-08-31 00:00:00|\n",
            "|         US|   14754850|R2T1AJ5MFI2260|B00BRQJYA8|     616463426|Lego Batman 2: DC...|     Video Games|          4|            0|          0|   N|                Y|          Four Stars|           Goodngame|2015-08-31 00:00:00|\n",
            "+-----------+-----------+--------------+----------+--------------+--------------------+----------------+-----------+-------------+-----------+----+-----------------+--------------------+--------------------+-------------------+\n",
            "only showing top 20 rows\n",
            "\n"
          ]
        }
      ]
    },
    {
      "cell_type": "code",
      "source": [
        "# Create the vine_table. DataFrame\n",
        "vine_df = df.select([\"review_id\", \"star_rating\", \"helpful_votes\", \"total_votes\", \"vine\", \"verified_purchase\"])\n",
        "\n",
        "vine_df.show()"
      ],
      "metadata": {
        "colab": {
          "base_uri": "https://localhost:8080/"
        },
        "id": "awFW7mp_0qLM",
        "outputId": "f1c34d43-80ac-42cd-df6a-bee1da5ce0d5"
      },
      "execution_count": 99,
      "outputs": [
        {
          "output_type": "stream",
          "name": "stdout",
          "text": [
            "+--------------+-----------+-------------+-----------+----+-----------------+\n",
            "|     review_id|star_rating|helpful_votes|total_votes|vine|verified_purchase|\n",
            "+--------------+-----------+-------------+-----------+----+-----------------+\n",
            "| RTIS3L2M1F5SM|          5|            0|          0|   N|                Y|\n",
            "| R1ZV7R40OLHKD|          5|            0|          0|   N|                Y|\n",
            "|R3BH071QLH8QMC|          1|            0|          1|   N|                Y|\n",
            "|R127K9NTSXA2YH|          3|            0|          0|   N|                Y|\n",
            "|R32ZWUXDJPW27Q|          4|            0|          0|   N|                Y|\n",
            "|R3AQQ4YUKJWBA6|          1|            0|          0|   N|                Y|\n",
            "|R2F0POU5K6F73F|          5|            0|          0|   N|                Y|\n",
            "|R3VNR804HYSMR6|          5|            0|          0|   N|                Y|\n",
            "| R3GZTM72WA2QH|          5|            0|          0|   N|                Y|\n",
            "| RNQOY62705W1K|          4|            0|          0|   N|                Y|\n",
            "|R1VTIA3JTYBY02|          5|            0|          0|   N|                N|\n",
            "|R29DOU8791QZL8|          1|            0|          0|   N|                Y|\n",
            "|R15DUT1VIJ9RJZ|          2|            0|          0|   N|                Y|\n",
            "|R3IMF2MQ3OU9ZM|          4|            0|          0|   N|                Y|\n",
            "|R23H79DHOZTYAU|          1|            1|          1|   N|                Y|\n",
            "| RIV24EQAIXA4O|          5|            0|          0|   N|                Y|\n",
            "|R3UCNGYDVN24YB|          5|            0|          0|   N|                Y|\n",
            "| RUL4H4XTTN2DY|          5|            0|          0|   N|                Y|\n",
            "|R20JF7Z4DHTNX5|          5|            0|          0|   N|                Y|\n",
            "|R2T1AJ5MFI2260|          4|            0|          0|   N|                Y|\n",
            "+--------------+-----------+-------------+-----------+----+-----------------+\n",
            "only showing top 20 rows\n",
            "\n"
          ]
        }
      ]
    },
    {
      "cell_type": "code",
      "source": [
        "# 1) Filter out the data do that only reviews of or more is shown\n",
        "filtered_df= vine_df.filter(df.total_votes >= 20)\n",
        "filtered_df.show()"
      ],
      "metadata": {
        "colab": {
          "base_uri": "https://localhost:8080/"
        },
        "id": "M-o4sDPlqggO",
        "outputId": "7034d2be-5341-4717-bd8b-0c6bed71fa25"
      },
      "execution_count": 100,
      "outputs": [
        {
          "output_type": "stream",
          "name": "stdout",
          "text": [
            "+--------------+-----------+-------------+-----------+----+-----------------+\n",
            "|     review_id|star_rating|helpful_votes|total_votes|vine|verified_purchase|\n",
            "+--------------+-----------+-------------+-----------+----+-----------------+\n",
            "| R4PKAZRQJJX14|          1|           21|         34|   N|                N|\n",
            "|R2CI0Y288CC7E2|          1|           21|         35|   N|                Y|\n",
            "|R127WEQY2FM1T3|          1|          147|        175|   N|                Y|\n",
            "|R3EZ0EPYLDA34S|          1|           14|         31|   N|                Y|\n",
            "|R2FJ94555FZH32|          2|           55|         60|   N|                N|\n",
            "|R1U3AR67RE273L|          1|           51|         65|   N|                Y|\n",
            "|R3PZOXA5X1U8KW|          4|           31|         36|   N|                N|\n",
            "| R6KTC1OPIOIIG|          2|           19|         34|   N|                Y|\n",
            "|R36O341WWXXKNP|          5|           28|         31|   N|                N|\n",
            "|R3GSK9MM8DNOYI|          1|            4|         32|   N|                N|\n",
            "|R10LZVBLQHBVJ0|          2|          151|        198|   N|                N|\n",
            "|R1VR5GLGY1GE7N|          1|           49|         51|   N|                Y|\n",
            "|R3GUUC6NT4QMCL|          1|            5|         36|   N|                N|\n",
            "|R1ZSD020RT18I5|          1|            7|        139|   N|                N|\n",
            "|R113X48B575ASY|          1|           15|         45|   N|                N|\n",
            "| RJLYLGRYH7SFQ|          1|           34|        116|   N|                N|\n",
            "|R2OWDAR0EDEPTF|          1|           23|         28|   N|                N|\n",
            "|R3CICXKAHN6NUD|          1|            0|         23|   N|                Y|\n",
            "|R29BOS5HMAY1LO|          5|           88|        110|   N|                N|\n",
            "| R8WD0136CETA7|          2|           99|        119|   N|                N|\n",
            "+--------------+-----------+-------------+-----------+----+-----------------+\n",
            "only showing top 20 rows\n",
            "\n"
          ]
        }
      ]
    },
    {
      "cell_type": "code",
      "source": [
        "# confirming data types\n",
        "filtered_df.printSchema()"
      ],
      "metadata": {
        "colab": {
          "base_uri": "https://localhost:8080/"
        },
        "id": "pFWjEN2UtAmo",
        "outputId": "d2302572-e4f3-47db-f0d7-d284e1430d7e"
      },
      "execution_count": 101,
      "outputs": [
        {
          "output_type": "stream",
          "name": "stdout",
          "text": [
            "root\n",
            " |-- review_id: string (nullable = true)\n",
            " |-- star_rating: integer (nullable = true)\n",
            " |-- helpful_votes: integer (nullable = true)\n",
            " |-- total_votes: integer (nullable = true)\n",
            " |-- vine: string (nullable = true)\n",
            " |-- verified_purchase: string (nullable = true)\n",
            "\n"
          ]
        }
      ]
    },
    {
      "cell_type": "code",
      "source": [
        "# 2) Created a dataFrame that has the percent helpful votes column\n",
        "\n",
        "percent_votes_df = filtered_df.withColumn(\"%_Helpful_Votes\", (filtered_df[\"helpful_votes\"]/ filtered_df[\"total_votes\"])*100)\n",
        "percent_votes_df.show()\n"
      ],
      "metadata": {
        "colab": {
          "base_uri": "https://localhost:8080/"
        },
        "id": "geGqv2RhrmEn",
        "outputId": "3806a586-dc03-4e17-be9f-55b738ac0796"
      },
      "execution_count": 102,
      "outputs": [
        {
          "output_type": "stream",
          "name": "stdout",
          "text": [
            "+--------------+-----------+-------------+-----------+----+-----------------+------------------+\n",
            "|     review_id|star_rating|helpful_votes|total_votes|vine|verified_purchase|   %_Helpful_Votes|\n",
            "+--------------+-----------+-------------+-----------+----+-----------------+------------------+\n",
            "| R4PKAZRQJJX14|          1|           21|         34|   N|                N| 61.76470588235294|\n",
            "|R2CI0Y288CC7E2|          1|           21|         35|   N|                Y|              60.0|\n",
            "|R127WEQY2FM1T3|          1|          147|        175|   N|                Y|              84.0|\n",
            "|R3EZ0EPYLDA34S|          1|           14|         31|   N|                Y| 45.16129032258064|\n",
            "|R2FJ94555FZH32|          2|           55|         60|   N|                N| 91.66666666666666|\n",
            "|R1U3AR67RE273L|          1|           51|         65|   N|                Y| 78.46153846153847|\n",
            "|R3PZOXA5X1U8KW|          4|           31|         36|   N|                N| 86.11111111111111|\n",
            "| R6KTC1OPIOIIG|          2|           19|         34|   N|                Y| 55.88235294117647|\n",
            "|R36O341WWXXKNP|          5|           28|         31|   N|                N| 90.32258064516128|\n",
            "|R3GSK9MM8DNOYI|          1|            4|         32|   N|                N|              12.5|\n",
            "|R10LZVBLQHBVJ0|          2|          151|        198|   N|                N| 76.26262626262627|\n",
            "|R1VR5GLGY1GE7N|          1|           49|         51|   N|                Y| 96.07843137254902|\n",
            "|R3GUUC6NT4QMCL|          1|            5|         36|   N|                N| 13.88888888888889|\n",
            "|R1ZSD020RT18I5|          1|            7|        139|   N|                N|5.0359712230215825|\n",
            "|R113X48B575ASY|          1|           15|         45|   N|                N| 33.33333333333333|\n",
            "| RJLYLGRYH7SFQ|          1|           34|        116|   N|                N|29.310344827586203|\n",
            "|R2OWDAR0EDEPTF|          1|           23|         28|   N|                N| 82.14285714285714|\n",
            "|R3CICXKAHN6NUD|          1|            0|         23|   N|                Y|               0.0|\n",
            "|R29BOS5HMAY1LO|          5|           88|        110|   N|                N|              80.0|\n",
            "| R8WD0136CETA7|          2|           99|        119|   N|                N| 83.19327731092437|\n",
            "+--------------+-----------+-------------+-----------+----+-----------------+------------------+\n",
            "only showing top 20 rows\n",
            "\n"
          ]
        }
      ]
    },
    {
      "cell_type": "code",
      "source": [
        "# 2) Filtering the df so that only %_Helpful_Votes is 50 or greater\n",
        "\n",
        "filtered_votes_df = percent_votes_df.filter(percent_votes_df[\"%_Helpful_Votes\"] >= 50)\n",
        "filtered_votes_df.show()"
      ],
      "metadata": {
        "colab": {
          "base_uri": "https://localhost:8080/"
        },
        "id": "qSGKuKoDxxBF",
        "outputId": "1dd4326e-7f2d-48fc-f7e3-6306029bad0a"
      },
      "execution_count": 103,
      "outputs": [
        {
          "output_type": "stream",
          "name": "stdout",
          "text": [
            "+--------------+-----------+-------------+-----------+----+-----------------+-----------------+\n",
            "|     review_id|star_rating|helpful_votes|total_votes|vine|verified_purchase|  %_Helpful_Votes|\n",
            "+--------------+-----------+-------------+-----------+----+-----------------+-----------------+\n",
            "| R4PKAZRQJJX14|          1|           21|         34|   N|                N|61.76470588235294|\n",
            "|R2CI0Y288CC7E2|          1|           21|         35|   N|                Y|             60.0|\n",
            "|R127WEQY2FM1T3|          1|          147|        175|   N|                Y|             84.0|\n",
            "|R2FJ94555FZH32|          2|           55|         60|   N|                N|91.66666666666666|\n",
            "|R1U3AR67RE273L|          1|           51|         65|   N|                Y|78.46153846153847|\n",
            "|R3PZOXA5X1U8KW|          4|           31|         36|   N|                N|86.11111111111111|\n",
            "| R6KTC1OPIOIIG|          2|           19|         34|   N|                Y|55.88235294117647|\n",
            "|R36O341WWXXKNP|          5|           28|         31|   N|                N|90.32258064516128|\n",
            "|R10LZVBLQHBVJ0|          2|          151|        198|   N|                N|76.26262626262627|\n",
            "|R1VR5GLGY1GE7N|          1|           49|         51|   N|                Y|96.07843137254902|\n",
            "|R2OWDAR0EDEPTF|          1|           23|         28|   N|                N|82.14285714285714|\n",
            "|R29BOS5HMAY1LO|          5|           88|        110|   N|                N|             80.0|\n",
            "| R8WD0136CETA7|          2|           99|        119|   N|                N|83.19327731092437|\n",
            "|R16621F16PQN5A|          3|           24|         31|   N|                Y|77.41935483870968|\n",
            "|R1LXBPG1M9DDOC|          1|          102|        106|   N|                N|96.22641509433963|\n",
            "| RNEMGSUKJ4535|          2|           21|         25|   N|                Y|             84.0|\n",
            "|R3R2UKBFKP1IQ4|          1|           19|         23|   N|                Y| 82.6086956521739|\n",
            "|R2T90XM5G2DBZA|          3|           15|         22|   N|                Y|68.18181818181817|\n",
            "| R5ZMK0Y0KRBRZ|          1|           79|         91|   N|                N|86.81318681318682|\n",
            "|R12E2W0XOV3I2S|          1|           24|         30|   N|                Y|             80.0|\n",
            "+--------------+-----------+-------------+-----------+----+-----------------+-----------------+\n",
            "only showing top 20 rows\n",
            "\n"
          ]
        }
      ]
    },
    {
      "cell_type": "code",
      "source": [
        "# 3) Filter so that vine column is \"Y\"\n",
        "\n",
        "Y_vine_df = filtered_votes_df.filter(filtered_votes_df[\"vine\"] == \"Y\")\n",
        "Y_vine_df.show()"
      ],
      "metadata": {
        "colab": {
          "base_uri": "https://localhost:8080/"
        },
        "id": "guPy2g24xxMy",
        "outputId": "fdf991f8-92e4-47e6-c471-0414551a8e91"
      },
      "execution_count": 104,
      "outputs": [
        {
          "output_type": "stream",
          "name": "stdout",
          "text": [
            "+--------------+-----------+-------------+-----------+----+-----------------+-----------------+\n",
            "|     review_id|star_rating|helpful_votes|total_votes|vine|verified_purchase|  %_Helpful_Votes|\n",
            "+--------------+-----------+-------------+-----------+----+-----------------+-----------------+\n",
            "|R3KKUSGFZWSUIY|          5|           56|         63|   Y|                N|88.88888888888889|\n",
            "|R10FO5UKKVZBK2|          3|           23|         23|   Y|                N|            100.0|\n",
            "| RM4KSGEOR7MU1|          5|           19|         24|   Y|                N|79.16666666666666|\n",
            "| RG7VRMYLEXD23|          4|           22|         26|   Y|                N|84.61538461538461|\n",
            "|R11O4YSCPSNL6L|          3|           20|         26|   Y|                N|76.92307692307693|\n",
            "|R286MFBAJ8NPD6|          5|           46|         51|   Y|                N|90.19607843137256|\n",
            "|R1JRR530H4COA2|          5|           22|         28|   Y|                N|78.57142857142857|\n",
            "| RQ5WD90PUNBU9|          5|           21|         24|   Y|                N|             87.5|\n",
            "|R12648VHCQWUV9|          4|           21|         28|   Y|                N|             75.0|\n",
            "|R3KAW29CJ8L6DQ|          5|           17|         20|   Y|                N|             85.0|\n",
            "|R1OWK33OPI45KT|          5|           55|         58|   Y|                N|94.82758620689656|\n",
            "|R2UP7VTED8O425|          5|           35|         41|   Y|                N|85.36585365853658|\n",
            "|R3N4QAXTQCA1ED|          5|           18|         20|   Y|                N|             90.0|\n",
            "|R3EPHK0JGQGE91|          5|           21|         28|   Y|                N|             75.0|\n",
            "| RCP3KRO47S0GG|          4|           51|         58|   Y|                N|87.93103448275862|\n",
            "|R3JT907UUA1WUI|          4|           85|        103|   Y|                N|82.52427184466019|\n",
            "| RY0555ILXIYXW|          5|           38|         50|   Y|                N|             76.0|\n",
            "|R24PS9N276OXF4|          5|          241|        262|   Y|                N|91.98473282442748|\n",
            "|R3R0F8ETAGTIOT|          5|           14|         20|   Y|                N|             70.0|\n",
            "| ROXZOMHBY8Y9S|          4|           21|         23|   Y|                N|91.30434782608695|\n",
            "+--------------+-----------+-------------+-----------+----+-----------------+-----------------+\n",
            "only showing top 20 rows\n",
            "\n"
          ]
        }
      ]
    },
    {
      "cell_type": "code",
      "source": [
        "# obtaing total vote count for vine == Y\n",
        "\n",
        "Y_ratings_count = Y_vine_df.count()\n",
        "Y_ratings_count"
      ],
      "metadata": {
        "colab": {
          "base_uri": "https://localhost:8080/"
        },
        "id": "gLiwSTkzsfcT",
        "outputId": "7222b795-142c-4750-d148-201218634953"
      },
      "execution_count": 106,
      "outputs": [
        {
          "output_type": "execute_result",
          "data": {
            "text/plain": [
              "94"
            ]
          },
          "metadata": {},
          "execution_count": 106
        }
      ]
    },
    {
      "cell_type": "code",
      "source": [
        "# Filtering N_vine_df for 5 stars and confirming it\n",
        "Y_Fivestars = Y_vine_df.filter(Y_vine_df[\"star_rating\"] == 5)\n",
        "Y_Fivestars.show()"
      ],
      "metadata": {
        "colab": {
          "base_uri": "https://localhost:8080/"
        },
        "id": "IFPJR7assfpm",
        "outputId": "57390764-a278-4ffb-907c-265ced730f64"
      },
      "execution_count": 86,
      "outputs": [
        {
          "output_type": "stream",
          "name": "stdout",
          "text": [
            "+--------------+-----------+-------------+-----------+----+-----------------+-----------------+\n",
            "|     review_id|star_rating|helpful_votes|total_votes|vine|verified_purchase|  %_Helpful_Votes|\n",
            "+--------------+-----------+-------------+-----------+----+-----------------+-----------------+\n",
            "|R3KKUSGFZWSUIY|          5|           56|         63|   Y|                N|88.88888888888889|\n",
            "| RM4KSGEOR7MU1|          5|           19|         24|   Y|                N|79.16666666666666|\n",
            "|R286MFBAJ8NPD6|          5|           46|         51|   Y|                N|90.19607843137256|\n",
            "|R1JRR530H4COA2|          5|           22|         28|   Y|                N|78.57142857142857|\n",
            "| RQ5WD90PUNBU9|          5|           21|         24|   Y|                N|             87.5|\n",
            "|R3KAW29CJ8L6DQ|          5|           17|         20|   Y|                N|             85.0|\n",
            "|R1OWK33OPI45KT|          5|           55|         58|   Y|                N|94.82758620689656|\n",
            "|R2UP7VTED8O425|          5|           35|         41|   Y|                N|85.36585365853658|\n",
            "|R3N4QAXTQCA1ED|          5|           18|         20|   Y|                N|             90.0|\n",
            "|R3EPHK0JGQGE91|          5|           21|         28|   Y|                N|             75.0|\n",
            "| RY0555ILXIYXW|          5|           38|         50|   Y|                N|             76.0|\n",
            "|R24PS9N276OXF4|          5|          241|        262|   Y|                N|91.98473282442748|\n",
            "|R3R0F8ETAGTIOT|          5|           14|         20|   Y|                N|             70.0|\n",
            "|R1L8N6VFY5KDSU|          5|           23|         26|   Y|                N|88.46153846153845|\n",
            "| R4LQC6M9AVXAY|          5|           69|         75|   Y|                N|             92.0|\n",
            "|R1CUA6APLIFSG9|          5|           39|         49|   Y|                N|79.59183673469387|\n",
            "|R369DSVA6AH6SB|          5|           16|         21|   Y|                N|76.19047619047619|\n",
            "| RIUKST053BR2K|          5|           25|         26|   Y|                N|96.15384615384616|\n",
            "|R1IN4WPVLZB86G|          5|           34|         37|   Y|                N| 91.8918918918919|\n",
            "|R2INH817LTJFGI|          5|           18|         20|   Y|                N|             90.0|\n",
            "+--------------+-----------+-------------+-----------+----+-----------------+-----------------+\n",
            "only showing top 20 rows\n",
            "\n"
          ]
        }
      ]
    },
    {
      "cell_type": "code",
      "source": [
        "# Obtain count of vine == Y 5 star reviews\n",
        "\n",
        "Y_fivestar_count = Y_Fivestars.count()\n",
        "Y_fivestar_count"
      ],
      "metadata": {
        "colab": {
          "base_uri": "https://localhost:8080/"
        },
        "id": "K1roBtAusftx",
        "outputId": "8b1d55ac-9b6b-4440-b02f-8cbe12929381"
      },
      "execution_count": 107,
      "outputs": [
        {
          "output_type": "execute_result",
          "data": {
            "text/plain": [
              "48"
            ]
          },
          "metadata": {},
          "execution_count": 107
        }
      ]
    },
    {
      "cell_type": "code",
      "source": [
        "# Obtain the percent of 5star votes\n",
        "Y_percent_fivestar_votes = (Y_fivestar_count/Y_ratings_count)*100\n",
        "Y_percent_fivestar_votes"
      ],
      "metadata": {
        "colab": {
          "base_uri": "https://localhost:8080/"
        },
        "id": "CUOttLyasfx8",
        "outputId": "ad9c83cc-cf80-4217-ffd9-5790e57ac206"
      },
      "execution_count": 108,
      "outputs": [
        {
          "output_type": "execute_result",
          "data": {
            "text/plain": [
              "51.06382978723404"
            ]
          },
          "metadata": {},
          "execution_count": 108
        }
      ]
    },
    {
      "cell_type": "code",
      "source": [
        "#Placeing info onto a single df\n",
        "Data = [(Y_ratings_count, Y_fivestar_count, Y_percent_fivestar_votes)]\n",
        "columns = [\"Total_Ratings_Count\", \"Five_Star_Count\", \"Five_Star_Count%\"]"
      ],
      "metadata": {
        "id": "7eptRzE1sf2A"
      },
      "execution_count": 109,
      "outputs": []
    },
    {
      "cell_type": "code",
      "source": [
        "# 5) created a df for all needed info for vine == Y\n",
        "Y_df = spark.createDataFrame(Data, columns)\n",
        "Y_df.show()"
      ],
      "metadata": {
        "colab": {
          "base_uri": "https://localhost:8080/"
        },
        "id": "jnA5WRaytYsW",
        "outputId": "2ee035e9-c6c4-4be3-b13b-a01d88257e73"
      },
      "execution_count": 110,
      "outputs": [
        {
          "output_type": "stream",
          "name": "stdout",
          "text": [
            "+-------------------+---------------+-----------------+\n",
            "|Total_Ratings_Count|Five_Star_Count| Five_Star_Count%|\n",
            "+-------------------+---------------+-----------------+\n",
            "|                 94|             48|51.06382978723404|\n",
            "+-------------------+---------------+-----------------+\n",
            "\n"
          ]
        }
      ]
    },
    {
      "cell_type": "code",
      "source": [
        "# rounding the  Five_Star_Count% to the tenths place\n",
        "Y_final_df = Y_df.select(\"*\", round(col(\"Five_Star_Count%\"), 1)).withColumnRenamed(\"round(Five_Star_Count%, 1)\", \"Percent_Five_Stars\").drop(\"Five_Star_Count%\")\n",
        "Y_final_df.show()"
      ],
      "metadata": {
        "colab": {
          "base_uri": "https://localhost:8080/"
        },
        "id": "g1yguuAmtY2A",
        "outputId": "ca93fe71-8372-4db4-88ca-fe30bda2a452"
      },
      "execution_count": 111,
      "outputs": [
        {
          "output_type": "stream",
          "name": "stdout",
          "text": [
            "+-------------------+---------------+------------------+\n",
            "|Total_Ratings_Count|Five_Star_Count|Percent_Five_Stars|\n",
            "+-------------------+---------------+------------------+\n",
            "|                 94|             48|              51.1|\n",
            "+-------------------+---------------+------------------+\n",
            "\n"
          ]
        }
      ]
    },
    {
      "cell_type": "code",
      "source": [],
      "metadata": {
        "id": "POuWAlgztY-f"
      },
      "execution_count": 111,
      "outputs": []
    },
    {
      "cell_type": "code",
      "source": [
        "# 4) Filter so that vine column is \"N\"\n",
        "\n",
        "N_vine_df = filtered_votes_df.filter(filtered_votes_df[\"vine\"] == \"N\")\n",
        "N_vine_df.show()"
      ],
      "metadata": {
        "colab": {
          "base_uri": "https://localhost:8080/"
        },
        "id": "w4ZWKw7LxxRy",
        "outputId": "9689d41c-7818-4ba8-f7d2-c0995e510058"
      },
      "execution_count": 112,
      "outputs": [
        {
          "output_type": "stream",
          "name": "stdout",
          "text": [
            "+--------------+-----------+-------------+-----------+----+-----------------+-----------------+\n",
            "|     review_id|star_rating|helpful_votes|total_votes|vine|verified_purchase|  %_Helpful_Votes|\n",
            "+--------------+-----------+-------------+-----------+----+-----------------+-----------------+\n",
            "| R4PKAZRQJJX14|          1|           21|         34|   N|                N|61.76470588235294|\n",
            "|R2CI0Y288CC7E2|          1|           21|         35|   N|                Y|             60.0|\n",
            "|R127WEQY2FM1T3|          1|          147|        175|   N|                Y|             84.0|\n",
            "|R2FJ94555FZH32|          2|           55|         60|   N|                N|91.66666666666666|\n",
            "|R1U3AR67RE273L|          1|           51|         65|   N|                Y|78.46153846153847|\n",
            "|R3PZOXA5X1U8KW|          4|           31|         36|   N|                N|86.11111111111111|\n",
            "| R6KTC1OPIOIIG|          2|           19|         34|   N|                Y|55.88235294117647|\n",
            "|R36O341WWXXKNP|          5|           28|         31|   N|                N|90.32258064516128|\n",
            "|R10LZVBLQHBVJ0|          2|          151|        198|   N|                N|76.26262626262627|\n",
            "|R1VR5GLGY1GE7N|          1|           49|         51|   N|                Y|96.07843137254902|\n",
            "|R2OWDAR0EDEPTF|          1|           23|         28|   N|                N|82.14285714285714|\n",
            "|R29BOS5HMAY1LO|          5|           88|        110|   N|                N|             80.0|\n",
            "| R8WD0136CETA7|          2|           99|        119|   N|                N|83.19327731092437|\n",
            "|R16621F16PQN5A|          3|           24|         31|   N|                Y|77.41935483870968|\n",
            "|R1LXBPG1M9DDOC|          1|          102|        106|   N|                N|96.22641509433963|\n",
            "| RNEMGSUKJ4535|          2|           21|         25|   N|                Y|             84.0|\n",
            "|R3R2UKBFKP1IQ4|          1|           19|         23|   N|                Y| 82.6086956521739|\n",
            "|R2T90XM5G2DBZA|          3|           15|         22|   N|                Y|68.18181818181817|\n",
            "| R5ZMK0Y0KRBRZ|          1|           79|         91|   N|                N|86.81318681318682|\n",
            "|R12E2W0XOV3I2S|          1|           24|         30|   N|                Y|             80.0|\n",
            "+--------------+-----------+-------------+-----------+----+-----------------+-----------------+\n",
            "only showing top 20 rows\n",
            "\n"
          ]
        }
      ]
    },
    {
      "cell_type": "code",
      "source": [
        "# obtaing total vote count for vine == N\n",
        "N_ratings_count = N_vine_df.count()\n",
        "N_ratings_count"
      ],
      "metadata": {
        "colab": {
          "base_uri": "https://localhost:8080/"
        },
        "id": "OE925Spyeudv",
        "outputId": "b4f49724-175e-4f3f-b82d-b291a4301c44"
      },
      "execution_count": 113,
      "outputs": [
        {
          "output_type": "execute_result",
          "data": {
            "text/plain": [
              "40471"
            ]
          },
          "metadata": {},
          "execution_count": 113
        }
      ]
    },
    {
      "cell_type": "code",
      "source": [
        "# Filtering N_vine_df for 5 stars and confirming it\n",
        "N_Fivestars = N_vine_df.filter(N_vine_df[\"star_rating\"] == 5)\n",
        "N_Fivestars.show()"
      ],
      "metadata": {
        "colab": {
          "base_uri": "https://localhost:8080/"
        },
        "id": "T9PmE0PspiLn",
        "outputId": "bc066d24-b345-4503-f78e-dc6e7dea94bc"
      },
      "execution_count": 114,
      "outputs": [
        {
          "output_type": "stream",
          "name": "stdout",
          "text": [
            "+--------------+-----------+-------------+-----------+----+-----------------+-----------------+\n",
            "|     review_id|star_rating|helpful_votes|total_votes|vine|verified_purchase|  %_Helpful_Votes|\n",
            "+--------------+-----------+-------------+-----------+----+-----------------+-----------------+\n",
            "|R36O341WWXXKNP|          5|           28|         31|   N|                N|90.32258064516128|\n",
            "|R29BOS5HMAY1LO|          5|           88|        110|   N|                N|             80.0|\n",
            "| RDX2ZZ46AM343|          5|           32|         34|   N|                Y|94.11764705882352|\n",
            "| R60GI4Z1CNGGV|          5|           17|         20|   N|                Y|             85.0|\n",
            "|R2FAARI3JQO9XQ|          5|           29|         30|   N|                Y|96.66666666666667|\n",
            "|R2WS53BH47WUMT|          5|           68|         84|   N|                N|80.95238095238095|\n",
            "|R2BBH73BUJYBGK|          5|           18|         22|   N|                N|81.81818181818183|\n",
            "|R18ZBSSAMJOV8I|          5|          450|        471|   N|                N|95.54140127388536|\n",
            "|R3M42FPE0VJA0U|          5|           20|         22|   N|                Y| 90.9090909090909|\n",
            "| RCK4WXLGD3HDY|          5|           72|         81|   N|                Y|88.88888888888889|\n",
            "|R18YE5XIUB40P9|          5|           18|         20|   N|                Y|             90.0|\n",
            "| RDU0H4FXCK7N6|          5|           36|         47|   N|                N|76.59574468085107|\n",
            "|R1I1EFIKJEUYPW|          5|           14|         23|   N|                N|60.86956521739131|\n",
            "|R2WPAHM90BCWUN|          5|          210|        227|   N|                Y|92.51101321585902|\n",
            "|R36BPLEJ7NEIGU|          5|           16|         22|   N|                N|72.72727272727273|\n",
            "|R1Q0A0OBLP6XBF|          5|           40|         49|   N|                N|81.63265306122449|\n",
            "|R3A0OAIPIIXZS3|          5|           70|         79|   N|                N|88.60759493670885|\n",
            "|R1KM8H2IP5U32V|          5|           21|         27|   N|                N|77.77777777777779|\n",
            "|R2CUQ7BSCBOXVB|          5|           24|         25|   N|                Y|             96.0|\n",
            "|R3H5ESWACX0M2C|          5|           71|         81|   N|                N|87.65432098765432|\n",
            "+--------------+-----------+-------------+-----------+----+-----------------+-----------------+\n",
            "only showing top 20 rows\n",
            "\n"
          ]
        }
      ]
    },
    {
      "cell_type": "code",
      "source": [
        "# Obtain count of vine == N 5 star reviews\n",
        "\n",
        "N_fivestar_count = N_Fivestars.count()\n",
        "N_fivestar_count"
      ],
      "metadata": {
        "colab": {
          "base_uri": "https://localhost:8080/"
        },
        "id": "jBchmBnnpiPt",
        "outputId": "de6e33dc-463e-49b6-bab6-05063a6c6d50"
      },
      "execution_count": 115,
      "outputs": [
        {
          "output_type": "execute_result",
          "data": {
            "text/plain": [
              "15663"
            ]
          },
          "metadata": {},
          "execution_count": 115
        }
      ]
    },
    {
      "cell_type": "code",
      "source": [
        "# Obtain the percent of 5star votes\n",
        "percent_fivestar_votes = (N_fivestar_count/N_ratings_count)*100\n",
        "percent_fivestar_votes"
      ],
      "metadata": {
        "colab": {
          "base_uri": "https://localhost:8080/"
        },
        "id": "7pOnZfo1mIjm",
        "outputId": "aedd583b-f903-488e-8b4e-87b0d8e1ffc2"
      },
      "execution_count": 116,
      "outputs": [
        {
          "output_type": "execute_result",
          "data": {
            "text/plain": [
              "38.701786464381904"
            ]
          },
          "metadata": {},
          "execution_count": 116
        }
      ]
    },
    {
      "cell_type": "code",
      "source": [
        "#Placeing info onto a single df\n",
        "Data = [(N_ratings_count, N_fivestar_count, percent_fivestar_votes)]\n",
        "columns = [\"Total_Ratings_Count\", \"Five_Star_Count\", \"Five_Star_Count%\"]"
      ],
      "metadata": {
        "id": "FyMEUVkqpiTW"
      },
      "execution_count": 117,
      "outputs": []
    },
    {
      "cell_type": "code",
      "source": [
        "# 5) created a df for all needed info for vine == N\n",
        "N_df = spark.createDataFrame(Data, columns)\n",
        "N_df.show()"
      ],
      "metadata": {
        "colab": {
          "base_uri": "https://localhost:8080/"
        },
        "id": "FuXKqbZykhcB",
        "outputId": "d98e9fe4-0e21-4462-90e1-60e12cd7e8d0"
      },
      "execution_count": 118,
      "outputs": [
        {
          "output_type": "stream",
          "name": "stdout",
          "text": [
            "+-------------------+---------------+------------------+\n",
            "|Total_Ratings_Count|Five_Star_Count|  Five_Star_Count%|\n",
            "+-------------------+---------------+------------------+\n",
            "|              40471|          15663|38.701786464381904|\n",
            "+-------------------+---------------+------------------+\n",
            "\n"
          ]
        }
      ]
    },
    {
      "cell_type": "code",
      "source": [
        "# rounding the  Five_Star_Count% to the tenths place\n",
        "N_final_df = N_df.select(\"*\", round(col(\"Five_Star_Count%\"), 1)).withColumnRenamed(\"round(Five_Star_Count%, 1)\", \"Percent_Five_Stars\").drop(\"Five_Star_Count%\")\n",
        "N_final_df.show()"
      ],
      "metadata": {
        "colab": {
          "base_uri": "https://localhost:8080/"
        },
        "id": "MRIV0XUcCNan",
        "outputId": "446be713-40db-4a74-f0eb-9d187b750b50"
      },
      "execution_count": 119,
      "outputs": [
        {
          "output_type": "stream",
          "name": "stdout",
          "text": [
            "+-------------------+---------------+------------------+\n",
            "|Total_Ratings_Count|Five_Star_Count|Percent_Five_Stars|\n",
            "+-------------------+---------------+------------------+\n",
            "|              40471|          15663|              38.7|\n",
            "+-------------------+---------------+------------------+\n",
            "\n"
          ]
        }
      ]
    }
  ]
}